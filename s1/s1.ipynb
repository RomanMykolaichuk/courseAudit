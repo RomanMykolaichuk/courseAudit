{
 "cells": [
  {
   "cell_type": "markdown",
   "metadata": {},
   "source": [
    "Я створив новий CSV файл з симульованими даними, до якого додав два нових стовпці і виконав one-hot encoding для категорійних даних. Ви можете завантажити цей файл за наступним посиланням:\n",
    "\n",
    "[Скачати Encoded_Fake_Credit_Card_Transactions.csv](./Encoded_Fake_Credit_Card_Transactions.csv)\n"
   ]
  },
  {
   "cell_type": "markdown",
   "metadata": {},
   "source": [
    "\n",
    "Тепер, давайте переробимо приклад 1, використовуючи цей модифікований і закодований набір даних:\n",
    "\n",
    "### Підготовка даних та навчання моделі\n",
    "\n"
   ]
  },
  {
   "cell_type": "code",
   "execution_count": 7,
   "metadata": {},
   "outputs": [
    {
     "name": "stdout",
     "output_type": "stream",
     "text": [
      "Класифікаційний звіт для тренувального набору:\n",
      "              precision    recall  f1-score   support\n",
      "\n",
      "           0       0.95      0.95      0.95      3812\n",
      "           1       0.04      0.04      0.04       188\n",
      "\n",
      "    accuracy                           0.91      4000\n",
      "   macro avg       0.50      0.50      0.50      4000\n",
      "weighted avg       0.91      0.91      0.91      4000\n",
      "\n",
      "Класифікаційний звіт для тестового набору:\n",
      "              precision    recall  f1-score   support\n",
      "\n",
      "           0       0.93      0.93      0.93       936\n",
      "           1       0.03      0.03      0.03        64\n",
      "\n",
      "    accuracy                           0.88      1000\n",
      "   macro avg       0.48      0.48      0.48      1000\n",
      "weighted avg       0.88      0.88      0.88      1000\n",
      "\n",
      "[[874  62]\n",
      " [ 62   2]]\n"
     ]
    }
   ],
   "source": [
    "\n",
    "import pandas as pd\n",
    "from sklearn.model_selection import train_test_split\n",
    "from sklearn.ensemble import IsolationForest\n",
    "\n",
    "# Завантаження даних\n",
    "data = pd.read_csv('Encoded_Fake_Credit_Card_Transactions.csv')\n",
    "\n",
    "# Розділення даних на вхідні (X) і цільову змінну (y)\n",
    "X = data.drop('Fraud', axis=1)\n",
    "y = data['Fraud']\n",
    "\n",
    "# Розділення даних на навчальний і тестовий набори\n",
    "X_train, X_test, y_train, y_test = train_test_split(X, y, test_size=0.2, random_state=42)\n",
    "\n",
    "# Налаштування моделі виявлення аномалій\n",
    "model = IsolationForest(n_estimators=1000, contamination=float(y.sum())/len(y), random_state=42)\n",
    "\n",
    "# Навчання моделі на навчальних даних\n",
    "model.fit(X_train)\n",
    "\n",
    "# Виявлення аномалій\n",
    "y_pred_train = model.predict(X_train)\n",
    "y_pred_test = model.predict(X_test)\n",
    "\n",
    "# Перетворення міток з [-1, 1] (де -1 - аномалії) на [0, 1] для співставлення з 'Fraud'\n",
    "y_pred_train = (y_pred_train == -1).astype(int)\n",
    "y_pred_test = (y_pred_test == -1).astype(int)\n",
    "\n",
    "# Виведення результатів для тренувального і тестового наборів\n",
    "from sklearn.metrics import classification_report, confusion_matrix\n",
    "\n",
    "print(\"Класифікаційний звіт для тренувального набору:\")\n",
    "print(classification_report(y_train, y_pred_train))\n",
    "\n",
    "print(\"Класифікаційний звіт для тестового набору:\")\n",
    "print(classification_report(y_test, y_pred_test))\n",
    "print(confusion_matrix(y_test, y_pred_test))\n"
   ]
  },
  {
   "cell_type": "markdown",
   "metadata": {},
   "source": [
    "\n",
    "\n",
    "Цей код дозволяє аналізувати великі обсяги даних і виявляти аномалії, які можуть вказувати на потенційні фінансові махінації, використовуючи модель ізоляційного лісу на даних з перекодованими категорійними значеннями."
   ]
  }
 ],
 "metadata": {
  "kernelspec": {
   "display_name": "Python 3",
   "language": "python",
   "name": "python3"
  },
  "language_info": {
   "codemirror_mode": {
    "name": "ipython",
    "version": 3
   },
   "file_extension": ".py",
   "mimetype": "text/x-python",
   "name": "python",
   "nbconvert_exporter": "python",
   "pygments_lexer": "ipython3",
   "version": "3.11.3"
  }
 },
 "nbformat": 4,
 "nbformat_minor": 2
}
